{
 "cells": [
  {
   "cell_type": "code",
   "execution_count": 1,
   "id": "a9fcf2a9",
   "metadata": {},
   "outputs": [],
   "source": [
    "import pandas as pd  #import pandas to read csv file "
   ]
  },
  {
   "cell_type": "code",
   "execution_count": 2,
   "id": "471f801d",
   "metadata": {},
   "outputs": [],
   "source": [
    "df = pd.read_csv(r\"C:\\Users\\Prince\\OneDrive\\Documents\\insaurance.csv\")      #Reading the csv file from computer"
   ]
  },
  {
   "cell_type": "code",
   "execution_count": 4,
   "id": "7d3d082e",
   "metadata": {},
   "outputs": [],
   "source": [
    "df = df.dropna()                                            #clean the data drop some empty row or column"
   ]
  },
  {
   "cell_type": "code",
   "execution_count": 7,
   "id": "f8c0c5be",
   "metadata": {},
   "outputs": [],
   "source": [
    "import matplotlib.pyplot as plt                             #import matplotlib for data visualisation"
   ]
  },
  {
   "cell_type": "code",
   "execution_count": 8,
   "id": "c9c1fe39",
   "metadata": {},
   "outputs": [
    {
     "data": {
      "text/plain": [
       "<matplotlib.collections.PathCollection at 0x1acba9f2ac0>"
      ]
     },
     "execution_count": 8,
     "metadata": {},
     "output_type": "execute_result"
    },
    {
     "data": {
      "image/png": "[encoded data removed]",
      "text/plain": [
       "<Figure size 432x288 with 1 Axes>"
      ]
     },
     "metadata": {
      "needs_background": "light"
     },
     "output_type": "display_data"
    }
   ],
   "source": [
    "plt.scatter(df.age,df.bought_insurance,color = \"red\",marker = \"+\")   #visualiise the data "
   ]
  },
  {
   "cell_type": "code",
   "execution_count": 11,
   "id": "2a0ea225",
   "metadata": {},
   "outputs": [],
   "source": [
    "from sklearn.model_selection import train_test_split          #from scikitlearn import train_test_split"
   ]
  },
  {
   "cell_type": "code",
   "execution_count": 34,
   "id": "6daf42c5",
   "metadata": {},
   "outputs": [],
   "source": [
    "x_train,x_test,y_train,y_test = train_test_split(df[[\"age\"]],df.bought_insurance,test_size = 0.2)  #divide data between train and test"
   ]
  },
  {
   "cell_type": "code",
   "execution_count": 35,
   "id": "65c2a80c",
   "metadata": {},
   "outputs": [],
   "source": [
    "from sklearn.linear_model import LogisticRegression #from sklearn import LogisticRegression"
   ]
  },
  {
   "cell_type": "code",
   "execution_count": 36,
   "id": "72b947a9",
   "metadata": {},
   "outputs": [],
   "source": [
    "model =  LogisticRegression()                       #make a model object"
   ]
  },
  {
   "cell_type": "code",
   "execution_count": 37,
   "id": "818e78b1",
   "metadata": {},
   "outputs": [
    {
     "data": {
      "text/plain": [
       "LogisticRegression()"
      ]
     },
     "execution_count": 37,
     "metadata": {},
     "output_type": "execute_result"
    }
   ],
   "source": [
    "model.fit(x_train,y_train)                          #pass the data from model to train the model"
   ]
  },
  {
   "cell_type": "code",
   "execution_count": 38,
   "id": "99de82e8",
   "metadata": {},
   "outputs": [
    {
     "data": {
      "text/plain": [
       "array([1., 1., 1., 0., 1., 1.])"
      ]
     },
     "execution_count": 38,
     "metadata": {},
     "output_type": "execute_result"
    }
   ],
   "source": [
    "model.predict(x_test)                              #Now time to predict our answer "
   ]
  },
  {
   "cell_type": "code",
   "execution_count": 32,
   "id": "243dcb46",
   "metadata": {},
   "outputs": [
    {
     "data": {
      "text/plain": [
       "1.0"
      ]
     },
     "execution_count": 32,
     "metadata": {},
     "output_type": "execute_result"
    }
   ],
   "source": [
    "model.score(x_test,y_test)"
   ]
  },
  {
   "cell_type": "code",
   "execution_count": 41,
   "id": "50d1bcf3",
   "metadata": {},
   "outputs": [],
   "source": [
    "df.to_csv(\"Logistic_csv\")"
   ]
  },
  {
   "cell_type": "code",
   "execution_count": 42,
   "id": "e5fb92a6",
   "metadata": {},
   "outputs": [],
   "source": [
    "file = open(\"df\",\"w\")\n",
    "file.write(\"Logistic_csv\")\n",
    "file.close()"
   ]
  },
  {
   "cell_type": "code",
   "execution_count": null,
   "id": "af551adf",
   "metadata": {},
   "outputs": [],
   "source": []
  }
 ],
 "metadata": {
  "kernelspec": {
   "display_name": "Python 3 (ipykernel)",
   "language": "python",
   "name": "python3"
  },
  "language_info": {
   "codemirror_mode": {
    "name": "ipython",
    "version": 3
   },
   "file_extension": ".py",
   "mimetype": "text/x-python",
   "name": "python",
   "nbconvert_exporter": "python",
   "pygments_lexer": "ipython3",
   "version": "3.9.7"
  }
 },
 "nbformat": 4,
 "nbformat_minor": 5
}
